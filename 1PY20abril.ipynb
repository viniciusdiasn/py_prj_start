{
  "nbformat": 4,
  "nbformat_minor": 0,
  "metadata": {
    "colab": {
      "provenance": []
    },
    "kernelspec": {
      "name": "python3",
      "display_name": "Python 3"
    },
    "language_info": {
      "name": "python"
    }
  },
  "cells": [
    {
      "cell_type": "markdown",
      "source": [
        "# Curso de progamaçao em python"
      ],
      "metadata": {
        "id": "sDgXPXvMaj9y"
      }
    },
    {
      "cell_type": "code",
      "source": [
        "print(\"olá SENAI\") # meu primeiro codigo"
      ],
      "metadata": {
        "colab": {
          "base_uri": "https://localhost:8080/"
        },
        "id": "60kIiR5Zcukf",
        "outputId": "4301309b-f2b2-400e-8b21-1eb93fa0d972"
      },
      "execution_count": 1,
      "outputs": [
        {
          "output_type": "stream",
          "name": "stdout",
          "text": [
            "olá SENAI\n"
          ]
        }
      ]
    },
    {
      "cell_type": "code",
      "source": [
        "Print('oi vida') #meu primeiro erro"
      ],
      "metadata": {
        "colab": {
          "base_uri": "https://localhost:8080/",
          "height": 146
        },
        "id": "Mb36XYpijDmB",
        "outputId": "720b9314-e07c-436c-c377-049c3a0aae95"
      },
      "execution_count": null,
      "outputs": [
        {
          "output_type": "error",
          "ename": "NameError",
          "evalue": "name 'Print' is not defined",
          "traceback": [
            "\u001b[0;31m---------------------------------------------------------------------------\u001b[0m",
            "\u001b[0;31mNameError\u001b[0m                                 Traceback (most recent call last)",
            "\u001b[0;32m<ipython-input-202-4c340ca98dd4>\u001b[0m in \u001b[0;36m<cell line: 1>\u001b[0;34m()\u001b[0m\n\u001b[0;32m----> 1\u001b[0;31m \u001b[0mPrint\u001b[0m\u001b[0;34m(\u001b[0m\u001b[0;34m'oi vida'\u001b[0m\u001b[0;34m)\u001b[0m \u001b[0;31m#meu primeiro erro\u001b[0m\u001b[0;34m\u001b[0m\u001b[0;34m\u001b[0m\u001b[0m\n\u001b[0m",
            "\u001b[0;31mNameError\u001b[0m: name 'Print' is not defined"
          ]
        }
      ]
    },
    {
      "cell_type": "code",
      "source": [
        "Print(\"erro de sintaxe!)"
      ],
      "metadata": {
        "colab": {
          "base_uri": "https://localhost:8080/",
          "height": 109
        },
        "id": "yanXut0sjVYL",
        "outputId": "796b9b4c-3afa-405a-d316-c082defce6b5"
      },
      "execution_count": null,
      "outputs": [
        {
          "output_type": "error",
          "ename": "SyntaxError",
          "evalue": "unterminated string literal (detected at line 1) (<ipython-input-203-ec28176256da>, line 1)",
          "traceback": [
            "\u001b[0;36m  File \u001b[0;32m\"<ipython-input-203-ec28176256da>\"\u001b[0;36m, line \u001b[0;32m1\u001b[0m\n\u001b[0;31m    Print(\"erro de sintaxe!)\u001b[0m\n\u001b[0m          ^\u001b[0m\n\u001b[0;31mSyntaxError\u001b[0m\u001b[0;31m:\u001b[0m unterminated string literal (detected at line 1)\n"
          ]
        }
      ]
    },
    {
      "cell_type": "code",
      "source": [
        "print('erro'"
      ],
      "metadata": {
        "colab": {
          "base_uri": "https://localhost:8080/",
          "height": 109
        },
        "id": "hGW4XEkXjgl7",
        "outputId": "61adfc13-8251-4c41-fb8e-c519955eb9f1"
      },
      "execution_count": null,
      "outputs": [
        {
          "output_type": "error",
          "ename": "SyntaxError",
          "evalue": "incomplete input (<ipython-input-39-6676802d78ee>, line 1)",
          "traceback": [
            "\u001b[0;36m  File \u001b[0;32m\"<ipython-input-39-6676802d78ee>\"\u001b[0;36m, line \u001b[0;32m1\u001b[0m\n\u001b[0;31m    print('erro'\u001b[0m\n\u001b[0m                ^\u001b[0m\n\u001b[0;31mSyntaxError\u001b[0m\u001b[0;31m:\u001b[0m incomplete input\n"
          ]
        }
      ]
    },
    {
      "cell_type": "markdown",
      "source": [
        "# Trabalhando com dados literais"
      ],
      "metadata": {
        "id": "4Qkd9nCnkMhR"
      }
    },
    {
      "cell_type": "code",
      "source": [
        "print(12375.8) # primeiro numero fracionario- float"
      ],
      "metadata": {
        "colab": {
          "base_uri": "https://localhost:8080/"
        },
        "id": "orHUe_8WlBim",
        "outputId": "d4c9af6b-65e4-4cef-ba11-30e7cceb896d"
      },
      "execution_count": null,
      "outputs": [
        {
          "output_type": "stream",
          "name": "stdout",
          "text": [
            "12375.8\n"
          ]
        }
      ]
    },
    {
      "cell_type": "code",
      "source": [
        "print(12.378,9)"
      ],
      "metadata": {
        "colab": {
          "base_uri": "https://localhost:8080/"
        },
        "id": "Ec_c0ATplM1f",
        "outputId": "2a3681da-e00a-4433-fe05-7f685661460f"
      },
      "execution_count": null,
      "outputs": [
        {
          "output_type": "stream",
          "name": "stdout",
          "text": [
            "12.378 9\n"
          ]
        }
      ]
    },
    {
      "cell_type": "code",
      "source": [
        "print('luiz','kassia', sep='********')"
      ],
      "metadata": {
        "colab": {
          "base_uri": "https://localhost:8080/"
        },
        "id": "C7tRyfVdmyn6",
        "outputId": "27acaa24-1403-48ed-c1e5-eee89ef48dc2"
      },
      "execution_count": null,
      "outputs": [
        {
          "output_type": "stream",
          "name": "stdout",
          "text": [
            "luiz********kassia\n"
          ]
        }
      ]
    },
    {
      "cell_type": "code",
      "source": [
        "print(12375.08) # \".\" é a separaçao de decimais"
      ],
      "metadata": {
        "colab": {
          "base_uri": "https://localhost:8080/"
        },
        "id": "EK_aBx-pt1Bn",
        "outputId": "0d546781-bb8a-44fa-c0a3-d9ec8c16d23b"
      },
      "execution_count": null,
      "outputs": [
        {
          "output_type": "stream",
          "name": "stdout",
          "text": [
            "12375.08\n"
          ]
        }
      ]
    },
    {
      "cell_type": "markdown",
      "source": [],
      "metadata": {
        "id": "rdMJxbvokVvg"
      }
    },
    {
      "cell_type": "markdown",
      "source": [
        "Booleano"
      ],
      "metadata": {
        "id": "72IiSq2zwnVQ"
      }
    },
    {
      "cell_type": "code",
      "source": [
        "5 > 2# dado booleano"
      ],
      "metadata": {
        "colab": {
          "base_uri": "https://localhost:8080/"
        },
        "id": "p70DIjEZvunF",
        "outputId": "45ea5ac9-0f72-4ee2-f31f-5b7fff00752f"
      },
      "execution_count": null,
      "outputs": [
        {
          "output_type": "execute_result",
          "data": {
            "text/plain": [
              "True"
            ]
          },
          "metadata": {},
          "execution_count": 208
        }
      ]
    },
    {
      "cell_type": "markdown",
      "source": [
        "# operaçoes em python"
      ],
      "metadata": {
        "id": "-XvxEN6j0Ivl"
      }
    },
    {
      "cell_type": "code",
      "source": [
        "# @title Adição\n",
        "\n",
        "print(8 + 10)    # Exemplo de Adição"
      ],
      "metadata": {
        "colab": {
          "base_uri": "https://localhost:8080/"
        },
        "id": "ZXKMaite0Qa3",
        "outputId": "02633aca-9eea-4201-9ae6-d812254fcfc8"
      },
      "execution_count": null,
      "outputs": [
        {
          "output_type": "stream",
          "name": "stdout",
          "text": [
            "18\n"
          ]
        }
      ]
    },
    {
      "cell_type": "code",
      "source": [
        "print(56 + 9.4) # Exemplo de adiçao e float"
      ],
      "metadata": {
        "colab": {
          "base_uri": "https://localhost:8080/"
        },
        "id": "9bQOaypS01ne",
        "outputId": "3d2deef9-b6b6-47d1-a48d-168165954647"
      },
      "execution_count": null,
      "outputs": [
        {
          "output_type": "stream",
          "name": "stdout",
          "text": [
            "65.4\n"
          ]
        }
      ]
    },
    {
      "cell_type": "code",
      "source": [
        "# @title Subtraçao\n",
        "\n",
        "print(345 - 78) # exemplo de subtraçao"
      ],
      "metadata": {
        "colab": {
          "base_uri": "https://localhost:8080/"
        },
        "id": "moGMG07q1WbH",
        "outputId": "fe522a1a-caf7-4d7b-d9c5-020dd75b82f7"
      },
      "execution_count": null,
      "outputs": [
        {
          "output_type": "stream",
          "name": "stdout",
          "text": [
            "267\n"
          ]
        }
      ]
    },
    {
      "cell_type": "code",
      "source": [
        "print( 1.45 - 27) #subtraçao entre inteiro e float"
      ],
      "metadata": {
        "colab": {
          "base_uri": "https://localhost:8080/"
        },
        "id": "HiqSH0mS1xNh",
        "outputId": "0146560c-1319-4064-e241-33f313130c5b"
      },
      "execution_count": null,
      "outputs": [
        {
          "output_type": "stream",
          "name": "stdout",
          "text": [
            "-25.55\n"
          ]
        }
      ]
    },
    {
      "cell_type": "code",
      "source": [
        "# @title multiplicação\n",
        "\n",
        "print(3*3) #exemplo de multiplicaçao"
      ],
      "metadata": {
        "id": "YOJ3L-pq13ku"
      },
      "execution_count": null,
      "outputs": []
    },
    {
      "cell_type": "code",
      "source": [
        "print(4.5 * 18) #exemplo de multiplicaçao de float"
      ],
      "metadata": {
        "id": "nHM29q5s2QTd"
      },
      "execution_count": null,
      "outputs": []
    },
    {
      "cell_type": "code",
      "source": [
        "# @title divisão\n",
        "\n",
        "print(100/5) # exemplo de divisão (todo resultado será float)"
      ],
      "metadata": {
        "colab": {
          "base_uri": "https://localhost:8080/"
        },
        "id": "RzgfN9QO2s2H",
        "outputId": "35bb12dd-7dd7-4a0f-ee51-07e24c2d79f8"
      },
      "execution_count": null,
      "outputs": [
        {
          "output_type": "stream",
          "name": "stdout",
          "text": [
            "20.0\n"
          ]
        }
      ]
    },
    {
      "cell_type": "code",
      "source": [
        "print( 100 // 5 ) #exemplo de divisão inteira (nao será float, divisão inteira)"
      ],
      "metadata": {
        "colab": {
          "base_uri": "https://localhost:8080/"
        },
        "id": "X2k1U56i3H8n",
        "outputId": "0f73eabc-120a-49d3-a54f-72528837fa34"
      },
      "execution_count": null,
      "outputs": [
        {
          "output_type": "stream",
          "name": "stdout",
          "text": [
            "20\n"
          ]
        }
      ]
    },
    {
      "cell_type": "code",
      "source": [
        "print(100 // 5.0) #exemplo de divisão inteira com float"
      ],
      "metadata": {
        "colab": {
          "base_uri": "https://localhost:8080/"
        },
        "id": "P54mRGm531Wz",
        "outputId": "35d30b2e-1a3f-4fb9-b858-edb1f64560bf"
      },
      "execution_count": null,
      "outputs": [
        {
          "output_type": "stream",
          "name": "stdout",
          "text": [
            "20.0\n"
          ]
        }
      ]
    },
    {
      "cell_type": "code",
      "source": [
        "# @title Exponenciação\n",
        "\n",
        "print(2 ** 3) #exemplo de exponenciação"
      ],
      "metadata": {
        "colab": {
          "base_uri": "https://localhost:8080/"
        },
        "id": "MxP5KWCE4Wev",
        "outputId": "dbb51f20-9615-4448-cd66-6f8877a1cd99"
      },
      "execution_count": null,
      "outputs": [
        {
          "output_type": "stream",
          "name": "stdout",
          "text": [
            "8\n"
          ]
        }
      ]
    },
    {
      "cell_type": "code",
      "source": [
        "print(4.8**4) #exemplo de exponenciação"
      ],
      "metadata": {
        "colab": {
          "base_uri": "https://localhost:8080/"
        },
        "id": "tLKmDJdm5sEM",
        "outputId": "ea853ab9-83af-42ec-b509-f3f91535b691"
      },
      "execution_count": null,
      "outputs": [
        {
          "output_type": "stream",
          "name": "stdout",
          "text": [
            "530.8416\n"
          ]
        }
      ]
    },
    {
      "cell_type": "code",
      "source": [
        "# @title Módulo\n",
        "\n",
        "print(12%5)  #exemplo de modulo(mostra o resto de uma divisão)\n"
      ],
      "metadata": {
        "colab": {
          "base_uri": "https://localhost:8080/"
        },
        "id": "trxi00hJ6jwO",
        "outputId": "bbb1b5be-5044-43c9-f8c6-ad0191baa5a6"
      },
      "execution_count": null,
      "outputs": [
        {
          "output_type": "stream",
          "name": "stdout",
          "text": [
            "2\n"
          ]
        }
      ]
    },
    {
      "cell_type": "code",
      "source": [
        "print(12%4.5) #exemplo de modulo entre"
      ],
      "metadata": {
        "colab": {
          "base_uri": "https://localhost:8080/"
        },
        "id": "WIIdI-Wz7XMi",
        "outputId": "eeaac6db-33f0-405d-c2fa-ef0d7bd78b21"
      },
      "execution_count": null,
      "outputs": [
        {
          "output_type": "stream",
          "name": "stdout",
          "text": [
            "3.0\n"
          ]
        }
      ]
    },
    {
      "cell_type": "markdown",
      "source": [
        "# Exercicio 1\n",
        "\n",
        "Crie um progama para receber dois valores e em seguida exiba soma desses valores"
      ],
      "metadata": {
        "id": "3n4-3fOy8cL6"
      }
    },
    {
      "cell_type": "code",
      "source": [
        "# Progama para receber dois valores e exibir a soma\n",
        "\n",
        "valor1=550  #primeira variavel\n",
        "valor2=218  #segunda variavel\n",
        "\n",
        "soma = (valor1+valor2) #exemplo de operação\n",
        "\n",
        "print('O resultado de valor 1 e valor 2 é ',soma)"
      ],
      "metadata": {
        "colab": {
          "base_uri": "https://localhost:8080/"
        },
        "id": "8UsimDx383bV",
        "outputId": "b5f49554-1c94-42ad-8d38-dcd5668f2b79"
      },
      "execution_count": null,
      "outputs": [
        {
          "output_type": "stream",
          "name": "stdout",
          "text": [
            "O resultado de valor 1 e valor 2 é  768\n"
          ]
        }
      ]
    },
    {
      "cell_type": "code",
      "source": [
        "fabrri =5\n",
        "legal =2\n",
        "\n",
        "booleano = 5>2\n",
        "\n",
        "print('fabbri é legal?,', booleano)"
      ],
      "metadata": {
        "colab": {
          "base_uri": "https://localhost:8080/"
        },
        "id": "UK3vG7VW_noX",
        "outputId": "df994b77-59ba-49f7-94d8-bd8f92b310b4"
      },
      "execution_count": 9,
      "outputs": [
        {
          "output_type": "stream",
          "name": "stdout",
          "text": [
            "fabbri é legal?, True\n"
          ]
        }
      ]
    },
    {
      "cell_type": "markdown",
      "source": [
        "# Exercicio 2"
      ],
      "metadata": {
        "id": "LvQO7ReUTHHy"
      }
    },
    {
      "cell_type": "code",
      "source": [
        "# Progama para receber dois valores e exibir a subtração\n",
        "\n",
        "valor1=550  #primeira variavel\n",
        "valor2=218  #segunda variavel\n",
        "\n",
        "sub = (valor1-valor2) #exemplo de operação\n",
        "\n",
        "print('O resultado de valor 1 e valor 2 é ',sub)"
      ],
      "metadata": {
        "id": "BIhVIwd0TOwL"
      },
      "execution_count": null,
      "outputs": []
    },
    {
      "cell_type": "markdown",
      "source": [
        "# Exercicio 3"
      ],
      "metadata": {
        "id": "GpiVZ721TkIc"
      }
    },
    {
      "cell_type": "code",
      "source": [
        "# Progama para receber dois valores e exibir a multiplicação\n",
        "\n",
        "valor1=550  #primeira variavel\n",
        "valor2=218  #segunda variavel\n",
        "\n",
        "mul = (valor1-valor2) #exemplo de operação\n",
        "\n",
        "print('O resultado de valor 1 e valor 2 é ',mul)"
      ],
      "metadata": {
        "colab": {
          "base_uri": "https://localhost:8080/"
        },
        "id": "gDpUT_YjT3IC",
        "outputId": "d5d3e089-c6f3-4231-8e17-b1b6d1828a96"
      },
      "execution_count": null,
      "outputs": [
        {
          "output_type": "stream",
          "name": "stdout",
          "text": [
            "O resultado de valor 1 e valor 2 é  332\n"
          ]
        }
      ]
    },
    {
      "cell_type": "markdown",
      "source": [
        "# Exercicio 4"
      ],
      "metadata": {
        "id": "iSmgdIdaUGVb"
      }
    },
    {
      "cell_type": "code",
      "source": [
        "# progama para receber dois valores e exibir a divisão\n",
        "\n",
        "valor1= 20 #primeiro valor\n",
        "\n",
        "valor2= 2  #segundo valor\n",
        "\n",
        "divi= (valor1/valor2)\n",
        "\n",
        "print(\"o resultado de valor1 e valor2\" ,divi)"
      ],
      "metadata": {
        "colab": {
          "base_uri": "https://localhost:8080/"
        },
        "id": "EY5KEjsGUJ6A",
        "outputId": "a538746d-0033-4d03-8e01-0308ce2065eb"
      },
      "execution_count": null,
      "outputs": [
        {
          "output_type": "stream",
          "name": "stdout",
          "text": [
            "o resultado de valor 1 e valor 2 10.0\n"
          ]
        }
      ]
    },
    {
      "cell_type": "markdown",
      "source": [
        "# Exercicio 5"
      ],
      "metadata": {
        "id": "clS8TjksVFcL"
      }
    },
    {
      "cell_type": "code",
      "source": [
        "# progama para receber dois valores e exibir o resto da divisão\n",
        "\n",
        "valor= 12\n",
        "valor2= 7\n",
        "\n",
        "res = (valor1%valor2)\n",
        "\n",
        "print( 'O resto da divisao do valor1 e valor2', res)"
      ],
      "metadata": {
        "colab": {
          "base_uri": "https://localhost:8080/"
        },
        "id": "KEk3Wju5VKIT",
        "outputId": "fb1b9924-b86f-4957-83d4-639de6181533"
      },
      "execution_count": null,
      "outputs": [
        {
          "output_type": "stream",
          "name": "stdout",
          "text": [
            "O resto da divisao do valor1 e valor2 6\n"
          ]
        }
      ]
    },
    {
      "cell_type": "markdown",
      "source": [
        "# Exercicio 6"
      ],
      "metadata": {
        "id": "dZIyAl6WWDel"
      }
    },
    {
      "cell_type": "code",
      "source": [
        "# progama para receber um valor ao quadrado de um numero\n",
        "\n",
        "valor= 40\n",
        "valor2\n",
        "\n",
        "pot= (valor1**valor2)\n",
        "\n",
        "print('o valor da potencia dos valores é', pot)\n"
      ],
      "metadata": {
        "colab": {
          "base_uri": "https://localhost:8080/"
        },
        "id": "1bK5TuxpWIUU",
        "outputId": "eb59aba8-748c-4e78-d35c-92ec1ce78776"
      },
      "execution_count": null,
      "outputs": [
        {
          "output_type": "stream",
          "name": "stdout",
          "text": [
            "o valor da potencia dos valores é 1280000000\n"
          ]
        }
      ]
    },
    {
      "cell_type": "markdown",
      "source": [
        "# Exercicio 7"
      ],
      "metadata": {
        "id": "Qgl0YBJWYi56"
      }
    },
    {
      "cell_type": "code",
      "source": [
        "# progama para receber um valor sobre a raiz quadrada\n",
        "\n",
        "valor1= 121\n",
        "ra= (valor1** (1/2))\n",
        "\n",
        "print('O valor da raiz do valor1 é',ra)"
      ],
      "metadata": {
        "colab": {
          "base_uri": "https://localhost:8080/"
        },
        "id": "GiBi-ZcuXbY5",
        "outputId": "6b7a6bbe-3e50-4ab0-b6be-d72c457e29e1"
      },
      "execution_count": null,
      "outputs": [
        {
          "output_type": "stream",
          "name": "stdout",
          "text": [
            "O valor da raiz do valor1 é 11.0\n"
          ]
        }
      ]
    },
    {
      "cell_type": "code",
      "source": [
        "res1=('ele é um otimo professor')\n",
        "\n",
        "res2=('ele é muito engraçado')\n",
        "\n",
        "proba=100/2\n",
        "\n"
      ],
      "metadata": {
        "id": "b0-PB7ZLZkC5"
      },
      "execution_count": null,
      "outputs": []
    },
    {
      "cell_type": "code",
      "source": [
        "# Exemplo de biblioteca math\n",
        "\n",
        "import math # importar a biblioteca\n",
        "\n",
        "#numero=45 # criando a variavel\n",
        "\n",
        "numero= float(input('digite um numero'))\n",
        "\n",
        "raizquadrada= math.sqrt(numero)\n",
        "print('a raiz quadrada é', raizquadrada)"
      ],
      "metadata": {
        "colab": {
          "base_uri": "https://localhost:8080/"
        },
        "id": "xph3SZokdyCD",
        "outputId": "172ad3dc-b192-4092-f6b1-5729afd95308"
      },
      "execution_count": 8,
      "outputs": [
        {
          "output_type": "stream",
          "name": "stdout",
          "text": [
            "digite um numero35\n",
            "a raiz quadrada é 5.916079783099616\n"
          ]
        }
      ]
    },
    {
      "cell_type": "markdown",
      "source": [
        "exercicico de 4 numeros"
      ],
      "metadata": {
        "id": "BBtTP8C-z5rO"
      }
    },
    {
      "cell_type": "code",
      "source": [
        "from ast import Yield\n",
        "# Progama dos 4 numeros\n",
        "\n",
        "print('inicio de progama')\n",
        "# Entrada progama\n",
        "A= float(input('digite o primeiro numero...\\n'))\n",
        "B= float(input('digite o segundo numero:'))\n",
        "C= float(input('digite o terçeiro numero:'))\n",
        "D= float(input('digite o quarto numero:'))\n",
        "\n",
        "# Processamento\n",
        "\n",
        "X= A * B\n",
        "Y= C * D\n",
        "\n",
        "Resultado = X - Y\n",
        "\n",
        "print('O resultado de X - Y é' , Resultado)\n",
        "\n",
        "print('\\nFim do progama...')"
      ],
      "metadata": {
        "id": "IulBbWJtr24A"
      },
      "execution_count": null,
      "outputs": []
    },
    {
      "cell_type": "markdown",
      "source": [
        "# Ordem dos operdadores"
      ],
      "metadata": {
        "id": "4o_5yIKF77cm"
      }
    },
    {
      "cell_type": "code",
      "source": [
        "# exemplo de operação modulo\n",
        "\n",
        "print(9%6&2) # esse operador tem ligação pelo lado esquerdo\n",
        "# executar da esquerda para direita"
      ],
      "metadata": {
        "colab": {
          "base_uri": "https://localhost:8080/"
        },
        "id": "t8LCBHC_8D2H",
        "outputId": "933cab81-fbd2-4363-9079-dd184b8373d4"
      },
      "execution_count": null,
      "outputs": [
        {
          "output_type": "stream",
          "name": "stdout",
          "text": [
            "2\n"
          ]
        }
      ]
    },
    {
      "cell_type": "code",
      "source": [
        "# exemplo de operçao exponenciação\n",
        "\n",
        "print(2**2**3) # esse operdador tem ligação pelo lado direito\n",
        "# executar da direita para esquerda"
      ],
      "metadata": {
        "colab": {
          "base_uri": "https://localhost:8080/"
        },
        "id": "6ekhVcX58QzH",
        "outputId": "27777953-ebeb-4918-9ddb-50901fab9b49"
      },
      "execution_count": null,
      "outputs": [
        {
          "output_type": "stream",
          "name": "stdout",
          "text": [
            "256\n"
          ]
        }
      ]
    },
    {
      "cell_type": "markdown",
      "source": [
        "# Indetificando o tipo de dados\n",
        "\n",
        "teste defina o tipo de dados de:\n",
        "\n",
        "4, 307, 187789.7 'Noel' \"-307', SENAI"
      ],
      "metadata": {
        "id": "vMpLkvY7-obu"
      }
    },
    {
      "cell_type": "code",
      "source": [
        "# Exemplo de teste de tipo de dados\n",
        "\n",
        "print('4, é considerado')\n",
        "print(type(4))\n",
        "print('\\n307 é considerado')\n",
        "\n",
        "print('\\n187789.7 é considerado')\n",
        "\n",
        "print('\\n \"Noel\" é considerado')\n",
        "\n",
        "print('\\n\"-307\\' é considerado')\n",
        "print('\\nSENAI é considerado')\n"
      ],
      "metadata": {
        "colab": {
          "base_uri": "https://localhost:8080/"
        },
        "id": "btid0gyS_MIF",
        "outputId": "f4242b01-65b5-48e6-8b86-8cfa6f2291b9"
      },
      "execution_count": null,
      "outputs": [
        {
          "output_type": "stream",
          "name": "stdout",
          "text": [
            "4, é considerado\n",
            "<class 'int'>\n",
            "\n",
            "307 é considerado\n",
            "\n",
            "187789.7 é considerado\n",
            "\n",
            " \"Noel\" é considerado\n",
            "\n",
            "\"-307' é considerado\n",
            "\n",
            "SENAI é considerado\n"
          ]
        }
      ]
    },
    {
      "cell_type": "markdown",
      "source": [
        "# texto e seus segredos"
      ],
      "metadata": {
        "id": "6UF6zEedCbuM"
      }
    },
    {
      "cell_type": "code",
      "source": [
        "# @title descobrindo quantas letras há em uma palavra\n",
        "\n",
        "palavra= 'o rato roeu a roupa do rei de roma'\n",
        "\n",
        "len(palavra)"
      ],
      "metadata": {
        "colab": {
          "base_uri": "https://localhost:8080/"
        },
        "id": "3-gWQJ4CChUm",
        "outputId": "0db75943-42e2-495b-fd00-772a68087306"
      },
      "execution_count": null,
      "outputs": [
        {
          "output_type": "execute_result",
          "data": {
            "text/plain": [
              "34"
            ]
          },
          "metadata": {},
          "execution_count": 227
        }
      ]
    },
    {
      "cell_type": "markdown",
      "source": [
        "Descubra quantas letras tem em:\n",
        "\n",
        "'cadeias de caracteres'\n",
        "\n",
        "'joão tem 22 anos e R$78,98 no bolso'\n",
        "''"
      ],
      "metadata": {
        "id": "jF9ICS5GDiAd"
      }
    },
    {
      "cell_type": "code",
      "source": [
        "palavra1= 'cadeia de caracteres'\n",
        "\n",
        "palavra2= 'joão tem 22 anos e R$78,98 no bolso'\n",
        "\n",
        "palavra3= ''\n",
        "\n",
        "len(palavra1)\n",
        "len(palavra2)\n",
        "len(palavra3)\n"
      ],
      "metadata": {
        "colab": {
          "base_uri": "https://localhost:8080/"
        },
        "id": "T20uyR-1D_uA",
        "outputId": "28167ed7-a88b-4012-b8ef-a1190e7adc43"
      },
      "execution_count": null,
      "outputs": [
        {
          "output_type": "execute_result",
          "data": {
            "text/plain": [
              "0"
            ]
          },
          "metadata": {},
          "execution_count": 228
        }
      ]
    }
  ]
}